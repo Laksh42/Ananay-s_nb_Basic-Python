{
 "cells": [
  {
   "cell_type": "markdown",
   "metadata": {},
   "source": [
    "### Functions\n",
    "- Function with No Argument, No Return\n",
    "- Function with No Argument, with Return\n",
    "- Function with Argument, No Return\n",
    "- Function with Argument, with Return"
   ]
  },
  {
   "cell_type": "code",
   "execution_count": 1,
   "metadata": {},
   "outputs": [
    {
     "name": "stdout",
     "output_type": "stream",
     "text": [
      "I am in function\n"
     ]
    }
   ],
   "source": [
    "def add():\n",
    "    print(\"I am in function\")\n",
    "\n",
    "add()"
   ]
  },
  {
   "cell_type": "code",
   "execution_count": 2,
   "metadata": {},
   "outputs": [
    {
     "name": "stdout",
     "output_type": "stream",
     "text": [
      "I am in function\n",
      "I am in function\n"
     ]
    }
   ],
   "source": [
    "add()\n",
    "add()"
   ]
  },
  {
   "cell_type": "code",
   "execution_count": 4,
   "metadata": {},
   "outputs": [
    {
     "name": "stdout",
     "output_type": "stream",
     "text": [
      "Outside: 10\n",
      "Inside: 10\n"
     ]
    }
   ],
   "source": [
    "a=10\n",
    "def fun():\n",
    "    print(\"Inside:\",a)\n",
    "\n",
    "print(\"Outside:\",a)\n",
    "fun()"
   ]
  },
  {
   "cell_type": "code",
   "execution_count": 5,
   "metadata": {},
   "outputs": [
    {
     "name": "stdout",
     "output_type": "stream",
     "text": [
      "Inside: 20\n",
      "Outside: 10\n"
     ]
    }
   ],
   "source": [
    "a=10\n",
    "def fun():\n",
    "    a=20\n",
    "    print(\"Inside:\",a)\n",
    "\n",
    "fun()\n",
    "print(\"Outside:\",a)"
   ]
  },
  {
   "cell_type": "code",
   "execution_count": 6,
   "metadata": {},
   "outputs": [
    {
     "ename": "UnboundLocalError",
     "evalue": "local variable 'a' referenced before assignment",
     "output_type": "error",
     "traceback": [
      "\u001b[1;31m---------------------------------------------------------------------------\u001b[0m",
      "\u001b[1;31mUnboundLocalError\u001b[0m                         Traceback (most recent call last)",
      "\u001b[1;32m<ipython-input-6-4196ca061bb8>\u001b[0m in \u001b[0;36m<module>\u001b[1;34m\u001b[0m\n\u001b[0;32m      4\u001b[0m     \u001b[0mprint\u001b[0m\u001b[1;33m(\u001b[0m\u001b[1;34m\"Inside:\"\u001b[0m\u001b[1;33m,\u001b[0m\u001b[0ma\u001b[0m\u001b[1;33m)\u001b[0m\u001b[1;33m\u001b[0m\u001b[1;33m\u001b[0m\u001b[0m\n\u001b[0;32m      5\u001b[0m \u001b[1;33m\u001b[0m\u001b[0m\n\u001b[1;32m----> 6\u001b[1;33m \u001b[0mfun\u001b[0m\u001b[1;33m(\u001b[0m\u001b[1;33m)\u001b[0m\u001b[1;33m\u001b[0m\u001b[1;33m\u001b[0m\u001b[0m\n\u001b[0m\u001b[0;32m      7\u001b[0m \u001b[0mprint\u001b[0m\u001b[1;33m(\u001b[0m\u001b[1;34m\"Outside:\"\u001b[0m\u001b[1;33m,\u001b[0m\u001b[0ma\u001b[0m\u001b[1;33m)\u001b[0m\u001b[1;33m\u001b[0m\u001b[1;33m\u001b[0m\u001b[0m\n",
      "\u001b[1;32m<ipython-input-6-4196ca061bb8>\u001b[0m in \u001b[0;36mfun\u001b[1;34m()\u001b[0m\n\u001b[0;32m      1\u001b[0m \u001b[0ma\u001b[0m\u001b[1;33m=\u001b[0m\u001b[1;36m10\u001b[0m\u001b[1;33m\u001b[0m\u001b[1;33m\u001b[0m\u001b[0m\n\u001b[0;32m      2\u001b[0m \u001b[1;32mdef\u001b[0m \u001b[0mfun\u001b[0m\u001b[1;33m(\u001b[0m\u001b[1;33m)\u001b[0m\u001b[1;33m:\u001b[0m\u001b[1;33m\u001b[0m\u001b[1;33m\u001b[0m\u001b[0m\n\u001b[1;32m----> 3\u001b[1;33m     \u001b[0ma\u001b[0m\u001b[1;33m=\u001b[0m\u001b[0ma\u001b[0m\u001b[1;33m+\u001b[0m\u001b[1;36m30\u001b[0m\u001b[1;33m\u001b[0m\u001b[1;33m\u001b[0m\u001b[0m\n\u001b[0m\u001b[0;32m      4\u001b[0m     \u001b[0mprint\u001b[0m\u001b[1;33m(\u001b[0m\u001b[1;34m\"Inside:\"\u001b[0m\u001b[1;33m,\u001b[0m\u001b[0ma\u001b[0m\u001b[1;33m)\u001b[0m\u001b[1;33m\u001b[0m\u001b[1;33m\u001b[0m\u001b[0m\n\u001b[0;32m      5\u001b[0m \u001b[1;33m\u001b[0m\u001b[0m\n",
      "\u001b[1;31mUnboundLocalError\u001b[0m: local variable 'a' referenced before assignment"
     ]
    }
   ],
   "source": [
    "a=10\n",
    "def fun():\n",
    "    a=a+30\n",
    "    print(\"Inside:\",a)\n",
    "\n",
    "fun()\n",
    "print(\"Outside:\",a)"
   ]
  },
  {
   "cell_type": "code",
   "execution_count": 7,
   "metadata": {},
   "outputs": [
    {
     "name": "stdout",
     "output_type": "stream",
     "text": [
      "Inside: 40\n",
      "Outside: 40\n"
     ]
    }
   ],
   "source": [
    "a=10\n",
    "def fun():\n",
    "    global a\n",
    "    a=a+30\n",
    "    print(\"Inside:\",a)\n",
    "\n",
    "fun()\n",
    "print(\"Outside:\",a)"
   ]
  },
  {
   "cell_type": "markdown",
   "metadata": {},
   "source": [
    "### Function with no argument , no return"
   ]
  },
  {
   "cell_type": "code",
   "execution_count": 2,
   "metadata": {},
   "outputs": [
    {
     "name": "stdout",
     "output_type": "stream",
     "text": [
      "Enter First No:11\n",
      "Enter Second No:11\n",
      "Sum: 22\n"
     ]
    }
   ],
   "source": [
    "def add():\n",
    "    a=int(input(\"Enter First No:\"))\n",
    "    b=int(input(\"Enter Second No:\"))\n",
    "    print(\"Sum:\",a+b)\n",
    "    \n",
    "add()"
   ]
  },
  {
   "cell_type": "markdown",
   "metadata": {},
   "source": [
    "### Function with No argument, with return"
   ]
  },
  {
   "cell_type": "code",
   "execution_count": 4,
   "metadata": {},
   "outputs": [
    {
     "name": "stdout",
     "output_type": "stream",
     "text": [
      "Enter First No:11\n",
      "Enter Second No:11\n",
      "Sum: 22\n",
      "None\n"
     ]
    }
   ],
   "source": [
    "def add():\n",
    "    a=int(input(\"Enter First No:\"))\n",
    "    b=int(input(\"Enter Second No:\"))\n",
    "    print(\"Sum:\",a+b)\n",
    "    \n",
    "a=add()\n",
    "print(a)"
   ]
  },
  {
   "cell_type": "code",
   "execution_count": 7,
   "metadata": {},
   "outputs": [
    {
     "name": "stdout",
     "output_type": "stream",
     "text": [
      "Enter First No:12\n",
      "Enter Second No:12\n",
      "Sum: 24\n",
      "Outside Sum: 24\n"
     ]
    }
   ],
   "source": [
    "def add():\n",
    "    a=int(input(\"Enter First No:\"))\n",
    "    b=int(input(\"Enter Second No:\"))\n",
    "    print(\"Sum:\",a+b)\n",
    "    return a+b\n",
    "    \n",
    "a=add()\n",
    "print(\"Outside Sum:\",a)"
   ]
  },
  {
   "cell_type": "markdown",
   "metadata": {},
   "source": [
    "###  Function with Argument, No Return"
   ]
  },
  {
   "cell_type": "code",
   "execution_count": 8,
   "metadata": {},
   "outputs": [
    {
     "name": "stdout",
     "output_type": "stream",
     "text": [
      "Enter First No:11\n",
      "Enter Second No:22\n",
      "Sum: 33\n"
     ]
    }
   ],
   "source": [
    "def add(x,y):\n",
    "    print(\"Sum:\",x+y)\n",
    "\n",
    "a=int(input(\"Enter First No:\"))\n",
    "b=int(input(\"Enter Second No:\"))\n",
    "add(a,b)"
   ]
  },
  {
   "cell_type": "markdown",
   "metadata": {},
   "source": [
    "### Function with Argument, with Return"
   ]
  },
  {
   "cell_type": "code",
   "execution_count": 10,
   "metadata": {},
   "outputs": [
    {
     "name": "stdout",
     "output_type": "stream",
     "text": [
      "Enter First No:11\n",
      "Enter Second No:11\n",
      "Sum: 22\n",
      "Sum: 22\n"
     ]
    }
   ],
   "source": [
    "def add(x,y):\n",
    "    print(\"Sum:\",x+y)\n",
    "    return x+y\n",
    "\n",
    "a=int(input(\"Enter First No:\"))\n",
    "b=int(input(\"Enter Second No:\"))\n",
    "print(\"Sum:\",add(a,b))"
   ]
  },
  {
   "cell_type": "code",
   "execution_count": 19,
   "metadata": {},
   "outputs": [
    {
     "name": "stdout",
     "output_type": "stream",
     "text": [
      "Enter First No:3\n",
      "Enter Second No:2\n",
      "Sum: 5\n",
      "5\n",
      "120\n",
      "SOD: 3\n"
     ]
    }
   ],
   "source": [
    "def add(x,y):\n",
    "    print(\"Sum:\",x+y)\n",
    "    return x+y\n",
    "\n",
    "def fact(n):\n",
    "    f=1\n",
    "    for i in range(1,n+1):\n",
    "        f=f*i\n",
    "    return f\n",
    "\n",
    "def sod(n):\n",
    "    mod=0\n",
    "    while(n!=0):\n",
    "        m=n%10\n",
    "        n=n//10\n",
    "        mod=mod+m\n",
    "    print(\"SOD:\",mod)\n",
    "    \n",
    "    \n",
    "a=int(input(\"Enter First No:\"))\n",
    "b=int(input(\"Enter Second No:\"))\n",
    "c=add(a,b)\n",
    "print(c)\n",
    "d=fact(c)\n",
    "print(d)\n",
    "sod(d)"
   ]
  },
  {
   "cell_type": "code",
   "execution_count": 22,
   "metadata": {},
   "outputs": [
    {
     "name": "stdout",
     "output_type": "stream",
     "text": [
      "0\n",
      "1\n",
      "2\n",
      "3\n",
      "5\n",
      "6\n",
      "7\n",
      "8\n",
      "9\n"
     ]
    }
   ],
   "source": [
    "for i in range(10):\n",
    "    if i==4:\n",
    "        continue\n",
    "    print(i)"
   ]
  },
  {
   "cell_type": "code",
   "execution_count": 23,
   "metadata": {},
   "outputs": [
    {
     "name": "stdout",
     "output_type": "stream",
     "text": [
      "0\n",
      "1\n",
      "2\n",
      "3\n"
     ]
    }
   ],
   "source": [
    "for i in range(10):\n",
    "    if i==4:\n",
    "        break\n",
    "    print(i)"
   ]
  },
  {
   "cell_type": "code",
   "execution_count": 24,
   "metadata": {},
   "outputs": [],
   "source": [
    "\n",
    "def fun():\n",
    "    while True:\n",
    "        print(\"hi\")"
   ]
  },
  {
   "cell_type": "code",
   "execution_count": 1,
   "metadata": {},
   "outputs": [
    {
     "name": "stdout",
     "output_type": "stream",
     "text": [
      "hi\n",
      "Bye\n"
     ]
    }
   ],
   "source": [
    "import time\n",
    "def fun():\n",
    "    while True:\n",
    "        print(\"hi\")\n",
    "        time.sleep(2)\n",
    "        print(\"Bye\")\n",
    "        time.sleep(2)\n",
    "        return\n",
    "      \n",
    "fun()"
   ]
  },
  {
   "cell_type": "code",
   "execution_count": 2,
   "metadata": {},
   "outputs": [
    {
     "name": "stdout",
     "output_type": "stream",
     "text": [
      "hi\n",
      "Bye\n"
     ]
    }
   ],
   "source": [
    "import time\n",
    "def fun():\n",
    "    while True:\n",
    "        print(\"hi\")\n",
    "        time.sleep(2)\n",
    "        print(\"Bye\")\n",
    "        time.sleep(2)\n",
    "        break\n",
    "fun()"
   ]
  },
  {
   "cell_type": "code",
   "execution_count": 5,
   "metadata": {},
   "outputs": [
    {
     "name": "stdout",
     "output_type": "stream",
     "text": [
      "itronix 20\n",
      "itronix 30\n",
      "sol 30\n"
     ]
    }
   ],
   "source": [
    "def fun1(a=\"itronix\",b=20):\n",
    "    print(a,b)\n",
    "    \n",
    "fun1()\n",
    "fun1(b=30)\n",
    "fun1(b=30,a=\"sol\")"
   ]
  },
  {
   "cell_type": "code",
   "execution_count": 6,
   "metadata": {},
   "outputs": [
    {
     "name": "stdout",
     "output_type": "stream",
     "text": [
      "Hello\n"
     ]
    }
   ],
   "source": [
    "def fun1():\n",
    "    print(\"Hello\")\n",
    "\n",
    "fun1()"
   ]
  },
  {
   "cell_type": "code",
   "execution_count": 7,
   "metadata": {},
   "outputs": [
    {
     "name": "stdout",
     "output_type": "stream",
     "text": [
      "Hello\n",
      "None\n"
     ]
    }
   ],
   "source": [
    "print(fun1())"
   ]
  },
  {
   "cell_type": "code",
   "execution_count": 8,
   "metadata": {},
   "outputs": [
    {
     "name": "stdout",
     "output_type": "stream",
     "text": [
      "<function fun at 0x0000000004F3E0D0>\n"
     ]
    }
   ],
   "source": [
    "print(fun)"
   ]
  },
  {
   "cell_type": "code",
   "execution_count": 17,
   "metadata": {},
   "outputs": [],
   "source": [
    "a=fun1"
   ]
  },
  {
   "cell_type": "code",
   "execution_count": 18,
   "metadata": {},
   "outputs": [
    {
     "name": "stdout",
     "output_type": "stream",
     "text": [
      "<function fun1 at 0x0000000004F2AA60>\n",
      "<function fun at 0x0000000004F3E0D0>\n"
     ]
    }
   ],
   "source": [
    "print(1"
   ]
  },
  {
   "cell_type": "code",
   "execution_count": 19,
   "metadata": {},
   "outputs": [
    {
     "name": "stdout",
     "output_type": "stream",
     "text": [
      "Hello\n"
     ]
    }
   ],
   "source": [
    "fun1()"
   ]
  },
  {
   "cell_type": "code",
   "execution_count": 20,
   "metadata": {},
   "outputs": [
    {
     "name": "stdout",
     "output_type": "stream",
     "text": [
      "Hello\n"
     ]
    }
   ],
   "source": [
    "a()"
   ]
  },
  {
   "cell_type": "code",
   "execution_count": 22,
   "metadata": {},
   "outputs": [],
   "source": [
    "del fun1"
   ]
  },
  {
   "cell_type": "code",
   "execution_count": 23,
   "metadata": {},
   "outputs": [
    {
     "ename": "NameError",
     "evalue": "name 'fun1' is not defined",
     "output_type": "error",
     "traceback": [
      "\u001b[1;31m---------------------------------------------------------------------------\u001b[0m",
      "\u001b[1;31mNameError\u001b[0m                                 Traceback (most recent call last)",
      "\u001b[1;32m<ipython-input-23-c007234036e7>\u001b[0m in \u001b[0;36m<module>\u001b[1;34m\u001b[0m\n\u001b[1;32m----> 1\u001b[1;33m \u001b[0mfun1\u001b[0m\u001b[1;33m(\u001b[0m\u001b[1;33m)\u001b[0m\u001b[1;33m\u001b[0m\u001b[1;33m\u001b[0m\u001b[0m\n\u001b[0m",
      "\u001b[1;31mNameError\u001b[0m: name 'fun1' is not defined"
     ]
    }
   ],
   "source": [
    "fun1()"
   ]
  },
  {
   "cell_type": "code",
   "execution_count": 24,
   "metadata": {},
   "outputs": [
    {
     "name": "stdout",
     "output_type": "stream",
     "text": [
      "Hello\n"
     ]
    }
   ],
   "source": [
    "a()"
   ]
  },
  {
   "cell_type": "code",
   "execution_count": 25,
   "metadata": {},
   "outputs": [
    {
     "name": "stdout",
     "output_type": "stream",
     "text": [
      "Itronix Solutions\n"
     ]
    }
   ],
   "source": [
    "def fun1(abc):\n",
    "    abc(\"Itronix Solutions\")\n",
    "    \n",
    "fun1(print)"
   ]
  },
  {
   "cell_type": "code",
   "execution_count": 27,
   "metadata": {},
   "outputs": [
    {
     "name": "stdout",
     "output_type": "stream",
     "text": [
      "Itronix\n",
      "Hi\n"
     ]
    }
   ],
   "source": [
    "def fun1():\n",
    "    print(\"Itronix\")\n",
    "    return print\n",
    "    \n",
    "www=fun1()\n",
    "www(\"Hi\")"
   ]
  },
  {
   "cell_type": "code",
   "execution_count": 31,
   "metadata": {},
   "outputs": [
    {
     "name": "stdout",
     "output_type": "stream",
     "text": [
      "hello\n",
      "hi\n"
     ]
    }
   ],
   "source": [
    "def fun1():\n",
    "    print(\"hello\")\n",
    "    def fun2():\n",
    "        print(\"hi\")\n",
    "    fun2()\n",
    " \n",
    "fun1()"
   ]
  },
  {
   "cell_type": "code",
   "execution_count": null,
   "metadata": {},
   "outputs": [],
   "source": [
    "def fun1():\n",
    "    print(\"hello\")\n",
    "    def fun2():\n",
    "        print(\"hi\")\n",
    "    \n",
    "\n",
    "fun1()"
   ]
  },
  {
   "cell_type": "code",
   "execution_count": 32,
   "metadata": {},
   "outputs": [
    {
     "name": "stdout",
     "output_type": "stream",
     "text": [
      "hello\n",
      "end\n",
      "Time Taken: 5.000286102294922\n"
     ]
    }
   ],
   "source": [
    "import time\n",
    "s=time.time()\n",
    "print(\"hello\")\n",
    "time.sleep(5)\n",
    "print(\"end\")\n",
    "e=time.time()\n",
    "print(\"Time Taken:\",e-s)"
   ]
  },
  {
   "cell_type": "code",
   "execution_count": 34,
   "metadata": {},
   "outputs": [
    {
     "name": "stdout",
     "output_type": "stream",
     "text": [
      "Time Taken: 1.3780786991119385\n"
     ]
    }
   ],
   "source": [
    "s=time.time()\n",
    "for i in range(10000000):\n",
    "    i=i*i\n",
    "e=time.time()\n",
    "print(\"Time Taken:\",e-s)"
   ]
  },
  {
   "cell_type": "code",
   "execution_count": 35,
   "metadata": {},
   "outputs": [
    {
     "name": "stdout",
     "output_type": "stream",
     "text": [
      "Time Taken: 2.132122039794922\n"
     ]
    }
   ],
   "source": [
    "s=time.time()\n",
    "for i in range(10000000):\n",
    "    i=i*i*i\n",
    "e=time.time()\n",
    "print(\"Time Taken:\",e-s)"
   ]
  },
  {
   "cell_type": "code",
   "execution_count": 37,
   "metadata": {},
   "outputs": [
    {
     "name": "stdout",
     "output_type": "stream",
     "text": [
      "hello\n",
      "<function fun1.<locals>.fun2 at 0x0000000004FEE1E0>\n"
     ]
    }
   ],
   "source": [
    "def fun1():\n",
    "    print(\"hello\")\n",
    "    def fun2():\n",
    "        print(\"hi\")\n",
    "    return fun2\n",
    "    \n",
    "a=fun1()\n",
    "print(a)"
   ]
  },
  {
   "cell_type": "code",
   "execution_count": 38,
   "metadata": {},
   "outputs": [
    {
     "name": "stdout",
     "output_type": "stream",
     "text": [
      "hi\n"
     ]
    }
   ],
   "source": [
    "a()"
   ]
  },
  {
   "cell_type": "code",
   "execution_count": 46,
   "metadata": {},
   "outputs": [
    {
     "name": "stdout",
     "output_type": "stream",
     "text": [
      "Time Taken: 0.7800445556640625\n",
      "Time Taken: 1.324075698852539\n"
     ]
    }
   ],
   "source": [
    "import time\n",
    "def fun1(fun):\n",
    "    def fun2():\n",
    "        s=time.time()\n",
    "        fun()\n",
    "        e=time.time()\n",
    "        print(\"Time Taken:\",e-s)\n",
    "    return fun2\n",
    "\n",
    "def square():\n",
    "    for i in range(10000000):\n",
    "        i=i*i\n",
    "\n",
    "def cube():\n",
    "    for i in range(10000000):\n",
    "        i=i*i*i\n",
    "\n",
    "A=fun1(square)\n",
    "A()\n",
    "A=fun1(cube)\n",
    "A()"
   ]
  },
  {
   "cell_type": "code",
   "execution_count": 44,
   "metadata": {},
   "outputs": [],
   "source": [
    "def fun():\n",
    "    print(\"hi\")"
   ]
  },
  {
   "cell_type": "code",
   "execution_count": 45,
   "metadata": {},
   "outputs": [
    {
     "name": "stdout",
     "output_type": "stream",
     "text": [
      "hi\n"
     ]
    }
   ],
   "source": [
    "fun()"
   ]
  },
  {
   "cell_type": "code",
   "execution_count": 51,
   "metadata": {},
   "outputs": [
    {
     "name": "stdout",
     "output_type": "stream",
     "text": [
      "Time Taken: 0.7710440158843994\n",
      "Time Taken: 1.2480714321136475\n"
     ]
    }
   ],
   "source": [
    "import time\n",
    "def fun1(fun):\n",
    "    def fun2():\n",
    "        s=time.time()\n",
    "        fun()\n",
    "        e=time.time()\n",
    "        print(\"Time Taken:\",e-s)\n",
    "    return fun2\n",
    "\n",
    "@fun1\n",
    "def square():\n",
    "    for i in range(10000000):\n",
    "        i=i*i\n",
    "@fun1\n",
    "def cube():\n",
    "    for i in range(10000000):\n",
    "        i=i*i*i\n",
    "\n",
    "square()\n",
    "cube()"
   ]
  },
  {
   "cell_type": "code",
   "execution_count": null,
   "metadata": {},
   "outputs": [],
   "source": []
  }
 ],
 "metadata": {
  "kernelspec": {
   "display_name": "Python 3",
   "language": "python",
   "name": "python3"
  },
  "language_info": {
   "codemirror_mode": {
    "name": "ipython",
    "version": 3
   },
   "file_extension": ".py",
   "mimetype": "text/x-python",
   "name": "python",
   "nbconvert_exporter": "python",
   "pygments_lexer": "ipython3",
   "version": "3.6.7"
  }
 },
 "nbformat": 4,
 "nbformat_minor": 2
}
