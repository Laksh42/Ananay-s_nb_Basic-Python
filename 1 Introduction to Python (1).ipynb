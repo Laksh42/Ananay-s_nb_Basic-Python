{
 "cells": [
  {
   "cell_type": "markdown",
   "metadata": {},
   "source": [
    "<img src=\"images/Er Karan Arora.jpg\" align='left'>"
   ]
  },
  {
   "cell_type": "markdown",
   "metadata": {},
   "source": [
    "# `Introduction to Python Programming`\n",
    "### `Downloading and installing Python`\n",
    "#### For Windows OS\n",
    "**Installing Python on Windows is a lot like installing any other program.**\n",
    "\n",
    "- [Go to the official Python website.](https://www.python.org/downloads/)\n",
    "- Run the installer.\n",
    "- Make sure that the launcher gets installed and click Install Now.\n",
    "\n",
    "<img src=\"images/1.png\" align='left' width=500 height=500>"
   ]
  },
  {
   "cell_type": "markdown",
   "metadata": {},
   "source": [
    "### \"Hello world\" in Python!\n",
    "When programmers are learning a new language, we tend to write a one-line program that prints some version of the message \"Hello world!\" this is a simple program that shows whether your computer is properly set up to run Python programs"
   ]
  },
  {
   "cell_type": "code",
   "execution_count": null,
   "metadata": {},
   "outputs": [],
   "source": [
    "print(\"Itronix Solutions\")"
   ]
  },
  {
   "cell_type": "code",
   "execution_count": 2,
   "metadata": {},
   "outputs": [
    {
     "name": "stdout",
     "output_type": "stream",
     "text": [
      "Itronix Solutions\n",
      "Itronix Solutions\n",
      "Itronix Solutions\n"
     ]
    }
   ],
   "source": [
    "print(\"Itronix Solutions\")\n",
    "print(\"Itronix Solutions\")\n",
    "print(\"Itronix Solutions\")"
   ]
  },
  {
   "cell_type": "markdown",
   "metadata": {},
   "source": [
    "### Single Line Comment"
   ]
  },
  {
   "cell_type": "code",
   "execution_count": 5,
   "metadata": {},
   "outputs": [
    {
     "name": "stdout",
     "output_type": "stream",
     "text": [
      "Itronix Solutions\n"
     ]
    }
   ],
   "source": [
    "#print(\"Itronix Solutions\")\n",
    "#print(\"Itronix Solutions\")\n",
    "print(\"Itronix Solutions\")"
   ]
  },
  {
   "cell_type": "markdown",
   "metadata": {},
   "source": [
    "### Multilne Comment"
   ]
  },
  {
   "cell_type": "code",
   "execution_count": 7,
   "metadata": {},
   "outputs": [
    {
     "name": "stdout",
     "output_type": "stream",
     "text": [
      "Itronix Solutions\n"
     ]
    }
   ],
   "source": [
    "'''\n",
    "print(\"Itronix Solutions\")\n",
    "print(\"Itronix Solutions\")\n",
    "print(\"Itronix Solutions\")\n",
    "print(\"Itronix Solutions\")\n",
    "print(\"Itronix Solutions\")\n",
    "'''\n",
    "\n",
    "print(\"Itronix Solutions\")\n"
   ]
  },
  {
   "cell_type": "markdown",
   "metadata": {},
   "source": [
    "### Assign values to the variable"
   ]
  },
  {
   "cell_type": "code",
   "execution_count": 8,
   "metadata": {},
   "outputs": [],
   "source": [
    "a=10\n",
    "b=3.14\n",
    "c=\"Itroix Solutions\""
   ]
  },
  {
   "cell_type": "code",
   "execution_count": 11,
   "metadata": {},
   "outputs": [
    {
     "name": "stdout",
     "output_type": "stream",
     "text": [
      "10\n",
      "3.14\n",
      "Itroix Solutions\n"
     ]
    }
   ],
   "source": [
    "print(a)\n",
    "print(b)\n",
    "print(c)"
   ]
  },
  {
   "cell_type": "code",
   "execution_count": 14,
   "metadata": {},
   "outputs": [
    {
     "name": "stdout",
     "output_type": "stream",
     "text": [
      "Value of a: 10\n",
      "Value of b: 3.14\n",
      "Value of c: Itroix Solutions\n"
     ]
    }
   ],
   "source": [
    "print(\"Value of a:\",a)\n",
    "print(\"Value of b:\",b)\n",
    "print(\"Value of c:\",c)"
   ]
  },
  {
   "cell_type": "code",
   "execution_count": 15,
   "metadata": {},
   "outputs": [
    {
     "name": "stdout",
     "output_type": "stream",
     "text": [
      "10 3.14 Itroix Solutions\n"
     ]
    }
   ],
   "source": [
    "print(a,b,c)"
   ]
  },
  {
   "cell_type": "code",
   "execution_count": 16,
   "metadata": {},
   "outputs": [
    {
     "name": "stdout",
     "output_type": "stream",
     "text": [
      "Value of a: 10 Value of b 3.14 Value of c Itroix Solutions\n"
     ]
    }
   ],
   "source": [
    "print(\"Value of a:\",a,\"Value of b\",b,\"Value of c\",c)"
   ]
  },
  {
   "cell_type": "code",
   "execution_count": 19,
   "metadata": {},
   "outputs": [
    {
     "name": "stdout",
     "output_type": "stream",
     "text": [
      "Value of a: 10 \n",
      "Value of b 3.14 \n",
      "Value of c Itroix Solutions\n"
     ]
    }
   ],
   "source": [
    "print(\"Value of a:\",a,\"\\nValue of b\",b,\"\\nValue of c\",c)"
   ]
  },
  {
   "cell_type": "code",
   "execution_count": 21,
   "metadata": {},
   "outputs": [
    {
     "name": "stdout",
     "output_type": "stream",
     "text": [
      "Value of a: 10\n",
      "Value of b: 3.14\n",
      "Value of c: Itroix Solutions\n"
     ]
    }
   ],
   "source": [
    "print(\"Value of a:\",a,end='\\n')\n",
    "print(\"Value of b:\",b,end='\\n')\n",
    "print(\"Value of c:\",c,end='\\n')"
   ]
  },
  {
   "cell_type": "code",
   "execution_count": 22,
   "metadata": {},
   "outputs": [
    {
     "name": "stdout",
     "output_type": "stream",
     "text": [
      "Value of a: 10 Value of b: 3.14 Value of c: Itroix Solutions "
     ]
    }
   ],
   "source": [
    "print(\"Value of a:\",a,end=' ')\n",
    "print(\"Value of b:\",b,end=' ')\n",
    "print(\"Value of c:\",c,end=' ')"
   ]
  },
  {
   "cell_type": "code",
   "execution_count": 23,
   "metadata": {},
   "outputs": [
    {
     "name": "stdout",
     "output_type": "stream",
     "text": [
      "Value of a: 10 :: Value of b: 3.14 -- Value of c: Itroix Solutions @@ "
     ]
    }
   ],
   "source": [
    "print(\"Value of a:\",a,end=' :: ')\n",
    "print(\"Value of b:\",b,end=' -- ')\n",
    "print(\"Value of c:\",c,end=' @@ ')"
   ]
  },
  {
   "cell_type": "code",
   "execution_count": 24,
   "metadata": {},
   "outputs": [
    {
     "name": "stdout",
     "output_type": "stream",
     "text": [
      "1 1 1\n"
     ]
    }
   ],
   "source": [
    "a=b=c=1\n",
    "print(a,b,c)"
   ]
  },
  {
   "cell_type": "code",
   "execution_count": 25,
   "metadata": {},
   "outputs": [
    {
     "name": "stdout",
     "output_type": "stream",
     "text": [
      "1 45.355 itronix\n"
     ]
    }
   ],
   "source": [
    "a,b,c,=1,45.355,\"itronix\"\n",
    "print(a,b,c)"
   ]
  },
  {
   "cell_type": "code",
   "execution_count": 26,
   "metadata": {},
   "outputs": [
    {
     "name": "stdout",
     "output_type": "stream",
     "text": [
      "1\n"
     ]
    }
   ],
   "source": [
    "print(a)"
   ]
  },
  {
   "cell_type": "code",
   "execution_count": 27,
   "metadata": {},
   "outputs": [],
   "source": [
    "del a"
   ]
  },
  {
   "cell_type": "code",
   "execution_count": 28,
   "metadata": {},
   "outputs": [
    {
     "ename": "NameError",
     "evalue": "name 'a' is not defined",
     "output_type": "error",
     "traceback": [
      "\u001b[1;31m---------------------------------------------------------------------------\u001b[0m",
      "\u001b[1;31mNameError\u001b[0m                                 Traceback (most recent call last)",
      "\u001b[1;32m<ipython-input-28-bca0e2660b9f>\u001b[0m in \u001b[0;36m<module>\u001b[1;34m\u001b[0m\n\u001b[1;32m----> 1\u001b[1;33m \u001b[0mprint\u001b[0m\u001b[1;33m(\u001b[0m\u001b[0ma\u001b[0m\u001b[1;33m)\u001b[0m\u001b[1;33m\u001b[0m\u001b[1;33m\u001b[0m\u001b[0m\n\u001b[0m",
      "\u001b[1;31mNameError\u001b[0m: name 'a' is not defined"
     ]
    }
   ],
   "source": [
    "print(a)"
   ]
  },
  {
   "cell_type": "markdown",
   "metadata": {},
   "source": [
    "#### Accepting User Inputs\n",
    "input( ) accepts input and stores it as a string. Hence, if the user inputs a integer, the code should convert the string to an integer and then proceed."
   ]
  },
  {
   "cell_type": "code",
   "execution_count": 34,
   "metadata": {},
   "outputs": [
    {
     "name": "stdout",
     "output_type": "stream",
     "text": [
      "Enter your string:itronix\n",
      "Your Entered: itronix\n",
      "<class 'str'>\n"
     ]
    }
   ],
   "source": [
    "a=input(\"Enter your string:\")\n",
    "print(\"Your Entered:\",a)\n",
    "print(type(a))"
   ]
  },
  {
   "cell_type": "code",
   "execution_count": 38,
   "metadata": {},
   "outputs": [
    {
     "name": "stdout",
     "output_type": "stream",
     "text": [
      "Enter your string:3.345\n",
      "3.345\n",
      "<class 'float'>\n"
     ]
    }
   ],
   "source": [
    "a=input(\"Enter your string:\")\n",
    "print(a)\n",
    "a=float(a)\n",
    "print(type(a))"
   ]
  },
  {
   "cell_type": "code",
   "execution_count": 42,
   "metadata": {},
   "outputs": [
    {
     "name": "stdout",
     "output_type": "stream",
     "text": [
      "Enter any integer:12\n",
      "12\n",
      "<class 'int'>\n"
     ]
    }
   ],
   "source": [
    "Value=int(input(\"Enter any integer:\"))\n",
    "print(Value)\n",
    "print(type(Value))"
   ]
  },
  {
   "cell_type": "code",
   "execution_count": 44,
   "metadata": {},
   "outputs": [
    {
     "name": "stdout",
     "output_type": "stream",
     "text": [
      "Enter any integer:12\n",
      "12.0\n",
      "<class 'float'>\n"
     ]
    }
   ],
   "source": [
    "Value=float(input(\"Enter any integer:\"))\n",
    "print(Value)\n",
    "print(type(Value))"
   ]
  },
  {
   "cell_type": "code",
   "execution_count": 47,
   "metadata": {},
   "outputs": [
    {
     "name": "stdout",
     "output_type": "stream",
     "text": [
      "Enter any integer:Itronix\n",
      "Itronix\n",
      "<class 'str'>\n"
     ]
    }
   ],
   "source": [
    "Value=str(input(\"Enter any integer:\"))\n",
    "print(Value)\n",
    "print(type(Value))"
   ]
  },
  {
   "cell_type": "markdown",
   "metadata": {},
   "source": [
    "**Note that type( ) returns the format or the type of a variable or a number**"
   ]
  },
  {
   "cell_type": "markdown",
   "metadata": {},
   "source": [
    "### String"
   ]
  },
  {
   "cell_type": "markdown",
   "metadata": {},
   "source": [
    "- a='word'\n",
    "- b=\"This is an example of Simple Sentense\"\n",
    "- c=\"\"\"Hi i am writing a Paragraph\"\"\""
   ]
  },
  {
   "cell_type": "code",
   "execution_count": 52,
   "metadata": {},
   "outputs": [
    {
     "name": "stdout",
     "output_type": "stream",
     "text": [
      "itronix\n",
      "Itronix Solutions Python Tutorials\n",
      "Welcome to Itronix \n",
      "Solutions Python Tutorials\n",
      "By: Karan Arora\n"
     ]
    }
   ],
   "source": [
    "a='itronix'\n",
    "b=\"Itronix Solutions Python Tutorials\"\n",
    "c='''Welcome to Itronix \n",
    "Solutions Python Tutorials\n",
    "By: Karan Arora'''\n",
    "print(a)\n",
    "print(b)\n",
    "print(c)"
   ]
  },
  {
   "cell_type": "code",
   "execution_count": 73,
   "metadata": {},
   "outputs": [
    {
     "name": "stdout",
     "output_type": "stream",
     "text": [
      "Itronix Solutions\n",
      "I\n",
      "o\n",
      "Itronix Solutions\n",
      "Itronix Solutions\n",
      "Itronix Solutions\n",
      "ron\n",
      "Itron\n",
      "ronix Solutions\n",
      "ronix Solution\n",
      "IrnxSltos\n",
      "toi ouin\n",
      "ons\n"
     ]
    }
   ],
   "source": [
    "s=\"Itronix Solutions\"\n",
    "print(s)\n",
    "print(s[0])\n",
    "print(s[-3])\n",
    "print(s)\n",
    "print(s[:])\n",
    "print(s[::])\n",
    "print(s[2:5])\n",
    "print(s[:5])\n",
    "print(s[2:])\n",
    "print(s[2:-1])\n",
    "print(s[::2])\n",
    "print(s[1::2])\n",
    "print(s[-3:])"
   ]
  },
  {
   "cell_type": "markdown",
   "metadata": {},
   "source": [
    "### Data Structures\n",
    "- List  : [ ]\n",
    "- Tuple : ( )\n",
    "- Dict  : {}"
   ]
  },
  {
   "cell_type": "markdown",
   "metadata": {},
   "source": [
    "### List"
   ]
  },
  {
   "cell_type": "code",
   "execution_count": 72,
   "metadata": {},
   "outputs": [
    {
     "name": "stdout",
     "output_type": "stream",
     "text": [
      "[12, 45.455, 'itronix', 45, 4.32, 45.9, 'Solutions', 12.7, 98]\n",
      "12\n",
      "Solutions\n",
      "[12, 45.455, 'itronix', 45, 4.32, 45.9, 'Solutions', 12.7, 98]\n",
      "[12, 45.455, 'itronix', 45, 4.32, 45.9, 'Solutions', 12.7, 98]\n",
      "[12, 45.455, 'itronix', 45, 4.32, 45.9, 'Solutions', 12.7, 98]\n",
      "['itronix', 45, 4.32]\n",
      "[12, 45.455, 'itronix', 45, 4.32]\n",
      "['itronix', 45, 4.32, 45.9, 'Solutions', 12.7, 98]\n",
      "['itronix', 45, 4.32, 45.9, 'Solutions', 12.7]\n",
      "[12, 'itronix', 4.32, 'Solutions', 98]\n",
      "[45.455, 45, 45.9, 12.7]\n",
      "['Solutions', 12.7, 98]\n"
     ]
    }
   ],
   "source": [
    "s=[12,45.455,\"itronix\",45,4.32,45.90,\"Solutions\",12.7,98]\n",
    "print(s)\n",
    "print(s[0])\n",
    "print(s[-3])\n",
    "print(s)\n",
    "print(s[:])\n",
    "print(s[::])\n",
    "print(s[2:5])\n",
    "print(s[:5])\n",
    "print(s[2:])\n",
    "print(s[2:-1])\n",
    "print(s[::2])\n",
    "print(s[1::2])\n",
    "print(s[-3:])"
   ]
  },
  {
   "cell_type": "markdown",
   "metadata": {},
   "source": [
    "### Tuple"
   ]
  },
  {
   "cell_type": "code",
   "execution_count": 74,
   "metadata": {},
   "outputs": [
    {
     "name": "stdout",
     "output_type": "stream",
     "text": [
      "(12, 45.455, 'itronix', 45, 4.32, 45.9, 'Solutions', 12.7, 98)\n",
      "12\n",
      "Solutions\n",
      "(12, 45.455, 'itronix', 45, 4.32, 45.9, 'Solutions', 12.7, 98)\n",
      "(12, 45.455, 'itronix', 45, 4.32, 45.9, 'Solutions', 12.7, 98)\n",
      "(12, 45.455, 'itronix', 45, 4.32, 45.9, 'Solutions', 12.7, 98)\n",
      "('itronix', 45, 4.32)\n",
      "(12, 45.455, 'itronix', 45, 4.32)\n",
      "('itronix', 45, 4.32, 45.9, 'Solutions', 12.7, 98)\n",
      "('itronix', 45, 4.32, 45.9, 'Solutions', 12.7)\n",
      "(12, 'itronix', 4.32, 'Solutions', 98)\n",
      "(45.455, 45, 45.9, 12.7)\n",
      "('Solutions', 12.7, 98)\n"
     ]
    }
   ],
   "source": [
    "s=(12,45.455,\"itronix\",45,4.32,45.90,\"Solutions\",12.7,98)\n",
    "print(s)\n",
    "print(s[0])\n",
    "print(s[-3])\n",
    "print(s)\n",
    "print(s[:])\n",
    "print(s[::])\n",
    "print(s[2:5])\n",
    "print(s[:5])\n",
    "print(s[2:])\n",
    "print(s[2:-1])\n",
    "print(s[::2])\n",
    "print(s[1::2])\n",
    "print(s[-3:])"
   ]
  },
  {
   "cell_type": "markdown",
   "metadata": {},
   "source": [
    "### Dict"
   ]
  },
  {
   "cell_type": "code",
   "execution_count": 78,
   "metadata": {},
   "outputs": [
    {
     "name": "stdout",
     "output_type": "stream",
     "text": [
      "{'Name': 'Karan', 'City': 'Chandigarh'}\n",
      "Karan\n",
      "Chandigarh\n"
     ]
    }
   ],
   "source": [
    "d={'Name':'Karan','City':'Chandigarh'}\n",
    "print(d)\n",
    "print(d['Name'])\n",
    "print(d['City'])"
   ]
  },
  {
   "cell_type": "code",
   "execution_count": 79,
   "metadata": {},
   "outputs": [
    {
     "name": "stdout",
     "output_type": "stream",
     "text": [
      "dict_keys(['Name', 'City'])\n"
     ]
    }
   ],
   "source": [
    "print(d.keys())"
   ]
  },
  {
   "cell_type": "code",
   "execution_count": 80,
   "metadata": {},
   "outputs": [
    {
     "name": "stdout",
     "output_type": "stream",
     "text": [
      "dict_values(['Karan', 'Chandigarh'])\n"
     ]
    }
   ],
   "source": [
    "print(d.values())"
   ]
  },
  {
   "cell_type": "code",
   "execution_count": 81,
   "metadata": {},
   "outputs": [
    {
     "name": "stdout",
     "output_type": "stream",
     "text": [
      "1020\n"
     ]
    }
   ],
   "source": [
    "a='10'\n",
    "b='20'\n",
    "print(a+b)"
   ]
  },
  {
   "cell_type": "code",
   "execution_count": 82,
   "metadata": {},
   "outputs": [
    {
     "name": "stdout",
     "output_type": "stream",
     "text": [
      "30\n"
     ]
    }
   ],
   "source": [
    "a=10\n",
    "b=20\n",
    "print(a+b)"
   ]
  },
  {
   "cell_type": "code",
   "execution_count": null,
   "metadata": {},
   "outputs": [],
   "source": []
  }
 ],
 "metadata": {
  "kernelspec": {
   "display_name": "Python 3",
   "language": "python",
   "name": "python3"
  },
  "language_info": {
   "codemirror_mode": {
    "name": "ipython",
    "version": 3
   },
   "file_extension": ".py",
   "mimetype": "text/x-python",
   "name": "python",
   "nbconvert_exporter": "python",
   "pygments_lexer": "ipython3",
   "version": "3.6.7"
  }
 },
 "nbformat": 4,
 "nbformat_minor": 2
}
