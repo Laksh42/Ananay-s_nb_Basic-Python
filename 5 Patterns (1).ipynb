{
 "cells": [
  {
   "cell_type": "markdown",
   "metadata": {},
   "source": [
    "<img src=\"images/Er Karan Arora.jpg\" align='left'>"
   ]
  },
  {
   "cell_type": "markdown",
   "metadata": {},
   "source": [
    "### Patterns in Python: Nested For Loop"
   ]
  },
  {
   "cell_type": "code",
   "execution_count": 8,
   "metadata": {},
   "outputs": [
    {
     "name": "stdout",
     "output_type": "stream",
     "text": [
      "hi hi hi hi hi \n",
      "hi hi hi hi hi \n",
      "hi hi hi hi hi \n",
      "hi hi hi hi hi \n",
      "hi hi hi hi hi \n"
     ]
    }
   ],
   "source": [
    "for i in range(1,6,1):\n",
    "    for j in range(1,6,1):\n",
    "        print(\"hi\",end=' ')\n",
    "    print()"
   ]
  },
  {
   "cell_type": "code",
   "execution_count": null,
   "metadata": {},
   "outputs": [],
   "source": [
    "hi\n",
    "hi hi\n",
    "hi hi hi\n",
    "hi hi hi hi \n",
    "hi hi hi hi hi"
   ]
  },
  {
   "cell_type": "code",
   "execution_count": 16,
   "metadata": {},
   "outputs": [
    {
     "name": "stdout",
     "output_type": "stream",
     "text": [
      "Hi \n",
      "Hi Hi \n",
      "Hi Hi Hi \n",
      "Hi Hi Hi Hi \n",
      "Hi Hi Hi Hi Hi \n"
     ]
    }
   ],
   "source": [
    "for i in range(1,6,1):\n",
    "    for j in range(1,i+1,1):\n",
    "        print(\"Hi\",end=' ')\n",
    "    print()"
   ]
  },
  {
   "cell_type": "markdown",
   "metadata": {},
   "source": [
    "### Pattern 1"
   ]
  },
  {
   "cell_type": "code",
   "execution_count": null,
   "metadata": {},
   "outputs": [],
   "source": [
    "1\n",
    "1 2\n",
    "1 2 3\n",
    "1 2 3 4\n",
    "1 2 3 4 5"
   ]
  },
  {
   "cell_type": "code",
   "execution_count": 34,
   "metadata": {},
   "outputs": [
    {
     "name": "stdout",
     "output_type": "stream",
     "text": [
      "1 \n",
      "1 2 \n",
      "1 2 3 \n",
      "1 2 3 4 \n",
      "1 2 3 4 5 \n"
     ]
    }
   ],
   "source": [
    "for i in range(1,6,1):\n",
    "    for j in range(1,i+1,1):\n",
    "        print(j,end=' ')\n",
    "    print()"
   ]
  },
  {
   "cell_type": "markdown",
   "metadata": {},
   "source": [
    "### Reverse loop\n"
   ]
  },
  {
   "cell_type": "code",
   "execution_count": 22,
   "metadata": {},
   "outputs": [
    {
     "name": "stdout",
     "output_type": "stream",
     "text": [
      "5\n",
      "4\n",
      "3\n",
      "2\n",
      "1\n"
     ]
    }
   ],
   "source": [
    "for i in range(5,0,-1):\n",
    "    print(i)"
   ]
  },
  {
   "cell_type": "markdown",
   "metadata": {},
   "source": [
    "### Pattern 2\n"
   ]
  },
  {
   "cell_type": "code",
   "execution_count": null,
   "metadata": {},
   "outputs": [],
   "source": [
    "1\n",
    "2 1\n",
    "3 2 1\n",
    "4 3 2 1\n",
    "5 4 3 2 1"
   ]
  },
  {
   "cell_type": "code",
   "execution_count": 24,
   "metadata": {},
   "outputs": [
    {
     "name": "stdout",
     "output_type": "stream",
     "text": [
      "1 \n",
      "2 1 \n",
      "3 2 1 \n",
      "4 3 2 1 \n",
      "5 4 3 2 1 \n"
     ]
    }
   ],
   "source": [
    "for i in range(1,6,1):\n",
    "    for j in range(i,0,-1):\n",
    "        print(j,end=' ')\n",
    "    print()"
   ]
  },
  {
   "cell_type": "markdown",
   "metadata": {},
   "source": [
    "### Pattern 3"
   ]
  },
  {
   "cell_type": "code",
   "execution_count": null,
   "metadata": {},
   "outputs": [],
   "source": [
    "5 4 3 2 1 \n",
    "4 3 2 1 \n",
    "3 2 1 \n",
    "2 1 \n",
    "1 "
   ]
  },
  {
   "cell_type": "code",
   "execution_count": 25,
   "metadata": {},
   "outputs": [
    {
     "name": "stdout",
     "output_type": "stream",
     "text": [
      "5 4 3 2 1 \n",
      "4 3 2 1 \n",
      "3 2 1 \n",
      "2 1 \n",
      "1 \n"
     ]
    }
   ],
   "source": [
    "for i in range(5,0,-1):\n",
    "    for j in range(i,0,-1):\n",
    "        print(j,end=' ')\n",
    "    print()"
   ]
  },
  {
   "cell_type": "markdown",
   "metadata": {},
   "source": [
    "### Pattern 4"
   ]
  },
  {
   "cell_type": "code",
   "execution_count": null,
   "metadata": {},
   "outputs": [],
   "source": [
    "1 2 3 4 5 \n",
    "2 3 4 5 \n",
    "3 4 5 \n",
    "4 5 \n",
    "5 "
   ]
  },
  {
   "cell_type": "code",
   "execution_count": 26,
   "metadata": {},
   "outputs": [
    {
     "name": "stdout",
     "output_type": "stream",
     "text": [
      "1 2 3 4 5 \n",
      "2 3 4 5 \n",
      "3 4 5 \n",
      "4 5 \n",
      "5 \n"
     ]
    }
   ],
   "source": [
    "for i in range(1,6,1):\n",
    "    for j in range(i,6,1):\n",
    "        print(j,end=' ')\n",
    "    print()"
   ]
  },
  {
   "cell_type": "markdown",
   "metadata": {},
   "source": [
    "### Pattern 5"
   ]
  },
  {
   "cell_type": "code",
   "execution_count": null,
   "metadata": {},
   "outputs": [],
   "source": [
    "        1 \n",
    "      2 1 \n",
    "    3 2 1 \n",
    "  4 3 2 1\n",
    "5 4 3 2 1 "
   ]
  },
  {
   "cell_type": "code",
   "execution_count": 29,
   "metadata": {},
   "outputs": [
    {
     "name": "stdout",
     "output_type": "stream",
     "text": [
      "        1 \n",
      "      2 1 \n",
      "    3 2 1 \n",
      "  4 3 2 1 \n",
      "5 4 3 2 1 \n"
     ]
    }
   ],
   "source": [
    "for i in range(1,6,1):\n",
    "    for k in range(5,i,-1):\n",
    "        print(\" \",end=' ')\n",
    "    for j in range(i,0,-1):\n",
    "        print(j,end=' ')\n",
    "    print()"
   ]
  },
  {
   "cell_type": "markdown",
   "metadata": {},
   "source": [
    "### Pattern 6"
   ]
  },
  {
   "cell_type": "code",
   "execution_count": null,
   "metadata": {},
   "outputs": [],
   "source": [
    "1\n",
    "2 3\n",
    "4 5 6\n",
    "7 8 9 10\n",
    "11 12 13 14 15"
   ]
  },
  {
   "cell_type": "code",
   "execution_count": 32,
   "metadata": {},
   "outputs": [
    {
     "name": "stdout",
     "output_type": "stream",
     "text": [
      "1 \n",
      "2 3 \n",
      "4 5 6 \n",
      "7 8 9 10 \n",
      "11 12 13 14 15 \n"
     ]
    }
   ],
   "source": [
    "k=1\n",
    "for i in range(1,6,1):\n",
    "    for j in range(1,i+1,1):\n",
    "        print(k,end=' ')\n",
    "        k=k+1\n",
    "    print()"
   ]
  },
  {
   "cell_type": "markdown",
   "metadata": {},
   "source": [
    "### Pattern 7"
   ]
  },
  {
   "cell_type": "code",
   "execution_count": null,
   "metadata": {},
   "outputs": [],
   "source": [
    "        1 \n",
    "      1 2 1 \n",
    "    1 2 3 2 1 \n",
    "  1 2 3 4 3 2 1 \n",
    "1 2 3 4 5 4 3 2 1 "
   ]
  },
  {
   "cell_type": "code",
   "execution_count": 38,
   "metadata": {},
   "outputs": [
    {
     "name": "stdout",
     "output_type": "stream",
     "text": [
      "        1 \n",
      "      1 2 1 \n",
      "    1 2 3 2 1 \n",
      "  1 2 3 4 3 2 1 \n",
      "1 2 3 4 5 4 3 2 1 \n"
     ]
    }
   ],
   "source": [
    "for i in range(1,6,1):\n",
    "    for k in range(5,i,-1):\n",
    "        print(\" \",end=' ')\n",
    "    for j in range(1,i+1,1):\n",
    "        print(j,end=' ')\n",
    "    for l in range(i-1,0,-1):\n",
    "        print(l,end=' ')\n",
    "    print()"
   ]
  },
  {
   "cell_type": "code",
   "execution_count": 39,
   "metadata": {},
   "outputs": [
    {
     "name": "stdout",
     "output_type": "stream",
     "text": [
      "        * \n",
      "      * * * \n",
      "    * * * * * \n",
      "  * * * * * * * \n",
      "* * * * * * * * * \n"
     ]
    }
   ],
   "source": [
    "for i in range(1,6,1):\n",
    "    for k in range(5,i,-1):\n",
    "        print(\" \",end=' ')\n",
    "    for j in range(1,i+1,1):\n",
    "        print(\"*\",end=' ')\n",
    "    for l in range(i-1,0,-1):\n",
    "        print(\"*\",end=' ')\n",
    "    print()"
   ]
  },
  {
   "cell_type": "markdown",
   "metadata": {},
   "source": [
    "### Pattern 8"
   ]
  },
  {
   "cell_type": "code",
   "execution_count": null,
   "metadata": {},
   "outputs": [],
   "source": [
    "* * * * * * * * * * \n",
    "* * * *     * * * * \n",
    "* * *         * * * \n",
    "* *             * * \n",
    "*                 * "
   ]
  },
  {
   "cell_type": "code",
   "execution_count": 44,
   "metadata": {},
   "outputs": [
    {
     "name": "stdout",
     "output_type": "stream",
     "text": [
      "* * * * * * * * * * \n",
      "* * * *     * * * * \n",
      "* * *         * * * \n",
      "* *             * * \n",
      "*                 * \n"
     ]
    }
   ],
   "source": [
    "for i in range(5,0,-1):\n",
    "    for j in range(1,i+1,1):\n",
    "        print(\"*\",end=' ')\n",
    "    for k in range(5,i,-1):\n",
    "        print(\"   \",end=' ')\n",
    "    for j in range(1,i+1,1):\n",
    "        print(\"*\",end=' ')\n",
    "    print()"
   ]
  },
  {
   "cell_type": "markdown",
   "metadata": {},
   "source": [
    "### Pattern 9"
   ]
  },
  {
   "cell_type": "code",
   "execution_count": null,
   "metadata": {},
   "outputs": [],
   "source": [
    "* * * * * \n",
    "*       * \n",
    "*       * \n",
    "*       * \n",
    "* * * * * "
   ]
  },
  {
   "cell_type": "code",
   "execution_count": 50,
   "metadata": {},
   "outputs": [
    {
     "name": "stdout",
     "output_type": "stream",
     "text": [
      "* * * * * \n",
      "*       * \n",
      "*       * \n",
      "*       * \n",
      "* * * * * \n"
     ]
    }
   ],
   "source": [
    "for i in range(1,6,1):\n",
    "    for j in range(1,6,1):\n",
    "        if i==1 or i==5:\n",
    "            print(\"*\",end=' ')\n",
    "        else:\n",
    "            if j==1 or j==5:\n",
    "                print(\"*\",end=' ')\n",
    "            else:\n",
    "                print(\" \",end=' ')\n",
    "    print()"
   ]
  },
  {
   "cell_type": "markdown",
   "metadata": {},
   "source": [
    "### Pattern 10"
   ]
  },
  {
   "cell_type": "code",
   "execution_count": null,
   "metadata": {},
   "outputs": [],
   "source": [
    "A \n",
    "A B \n",
    "A B C \n",
    "A B C D \n",
    "A B C D E \n",
    "A B C D E F \n",
    "A B C D E F G \n",
    "A B C D E F G H \n",
    "A B C D E F G H I \n",
    "A B C D E F G H I J \n",
    "A B C D E F G H I J K \n",
    "A B C D E F G H I J K L \n",
    "A B C D E F G H I J K L M \n",
    "A B C D E F G H I J K L M N \n",
    "A B C D E F G H I J K L M N O \n",
    "A B C D E F G H I J K L M N O P \n",
    "A B C D E F G H I J K L M N O P Q \n",
    "A B C D E F G H I J K L M N O P Q R \n",
    "A B C D E F G H I J K L M N O P Q R S \n",
    "A B C D E F G H I J K L M N O P Q R S T \n",
    "A B C D E F G H I J K L M N O P Q R S T U \n",
    "A B C D E F G H I J K L M N O P Q R S T U V \n",
    "A B C D E F G H I J K L M N O P Q R S T U V W \n",
    "A B C D E F G H I J K L M N O P Q R S T U V W X \n",
    "A B C D E F G H I J K L M N O P Q R S T U V W X Y \n",
    "A B C D E F G H I J K L M N O P Q R S T U V W X Y Z"
   ]
  },
  {
   "cell_type": "code",
   "execution_count": 59,
   "metadata": {},
   "outputs": [
    {
     "data": {
      "text/plain": [
       "90"
      ]
     },
     "execution_count": 59,
     "metadata": {},
     "output_type": "execute_result"
    }
   ],
   "source": [
    "ord('Z')"
   ]
  },
  {
   "cell_type": "code",
   "execution_count": 57,
   "metadata": {},
   "outputs": [
    {
     "data": {
      "text/plain": [
       "'A'"
      ]
     },
     "execution_count": 57,
     "metadata": {},
     "output_type": "execute_result"
    }
   ],
   "source": [
    "chr(65)"
   ]
  },
  {
   "cell_type": "code",
   "execution_count": 61,
   "metadata": {},
   "outputs": [
    {
     "name": "stdout",
     "output_type": "stream",
     "text": [
      "A \n",
      "A B \n",
      "A B C \n",
      "A B C D \n",
      "A B C D E \n",
      "A B C D E F \n",
      "A B C D E F G \n",
      "A B C D E F G H \n",
      "A B C D E F G H I \n",
      "A B C D E F G H I J \n",
      "A B C D E F G H I J K \n",
      "A B C D E F G H I J K L \n",
      "A B C D E F G H I J K L M \n",
      "A B C D E F G H I J K L M N \n",
      "A B C D E F G H I J K L M N O \n",
      "A B C D E F G H I J K L M N O P \n",
      "A B C D E F G H I J K L M N O P Q \n",
      "A B C D E F G H I J K L M N O P Q R \n",
      "A B C D E F G H I J K L M N O P Q R S \n",
      "A B C D E F G H I J K L M N O P Q R S T \n",
      "A B C D E F G H I J K L M N O P Q R S T U \n",
      "A B C D E F G H I J K L M N O P Q R S T U V \n",
      "A B C D E F G H I J K L M N O P Q R S T U V W \n",
      "A B C D E F G H I J K L M N O P Q R S T U V W X \n",
      "A B C D E F G H I J K L M N O P Q R S T U V W X Y \n",
      "A B C D E F G H I J K L M N O P Q R S T U V W X Y Z \n"
     ]
    }
   ],
   "source": [
    "for i in range(ord('A'),ord('Z')+1,1):\n",
    "    for j in range(ord('A'),i+1,1):\n",
    "        print(chr(j),end=' ')\n",
    "    print()"
   ]
  },
  {
   "cell_type": "code",
   "execution_count": null,
   "metadata": {},
   "outputs": [],
   "source": []
  }
 ],
 "metadata": {
  "kernelspec": {
   "display_name": "Python 3",
   "language": "python",
   "name": "python3"
  },
  "language_info": {
   "codemirror_mode": {
    "name": "ipython",
    "version": 3
   },
   "file_extension": ".py",
   "mimetype": "text/x-python",
   "name": "python",
   "nbconvert_exporter": "python",
   "pygments_lexer": "ipython3",
   "version": "3.6.7"
  }
 },
 "nbformat": 4,
 "nbformat_minor": 2
}
