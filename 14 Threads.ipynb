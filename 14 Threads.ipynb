{
 "cells": [
  {
   "cell_type": "code",
   "execution_count": 1,
   "metadata": {},
   "outputs": [
    {
     "name": "stdout",
     "output_type": "stream",
     "text": [
      "Hello\n",
      "Hi\n",
      "Bye\n"
     ]
    }
   ],
   "source": [
    "def fun1():\n",
    "    print(\"Hello\")\n",
    "    \n",
    "def fun2():\n",
    "    print(\"Hi\")\n",
    "    \n",
    "def fun3():\n",
    "    print(\"Bye\")\n",
    "    \n",
    "fun1()\n",
    "fun2()\n",
    "fun3()"
   ]
  },
  {
   "cell_type": "code",
   "execution_count": 2,
   "metadata": {},
   "outputs": [
    {
     "name": "stdout",
     "output_type": "stream",
     "text": [
      "Hello\n",
      "Hi\n",
      "Bye\n"
     ]
    }
   ],
   "source": [
    "import time\n",
    "def fun1():\n",
    "    print(\"Hello\")\n",
    "    time.sleep(1)\n",
    "    \n",
    "def fun2():\n",
    "    print(\"Hi\")\n",
    "    time.sleep(2)\n",
    "    \n",
    "def fun3():\n",
    "    print(\"Bye\")\n",
    "    time.sleep(3)\n",
    "    \n",
    "fun1()\n",
    "fun2()\n",
    "fun3()"
   ]
  },
  {
   "cell_type": "code",
   "execution_count": null,
   "metadata": {},
   "outputs": [
    {
     "name": "stdout",
     "output_type": "stream",
     "text": [
      "Hello\n",
      "Hello\n",
      "Hello\n",
      "Hello\n",
      "Hello\n",
      "Hello\n",
      "Hello\n",
      "Hello\n",
      "Hello\n",
      "Hello\n",
      "Hello\n"
     ]
    }
   ],
   "source": [
    "import time\n",
    "def fun1():\n",
    "    while True:\n",
    "        print(\"Hello\")\n",
    "        time.sleep(1)\n",
    "    \n",
    "def fun2():\n",
    "    while True:\n",
    "        print(\"Hi\")\n",
    "        time.sleep(2)\n",
    "    \n",
    "def fun3():\n",
    "    while True:\n",
    "        print(\"Bye\")\n",
    "        time.sleep(3)\n",
    "fun1()\n",
    "fun2()\n",
    "fun3()"
   ]
  },
  {
   "cell_type": "code",
   "execution_count": 3,
   "metadata": {},
   "outputs": [
    {
     "name": "stdout",
     "output_type": "stream",
     "text": [
      "HelloHi\n",
      "\n",
      "Bye\n",
      "Hello\n",
      "Hi\n",
      "Hello\n",
      "Hello\n",
      "Bye\n",
      "Hi\n",
      "Hello\n",
      "Hello\n",
      "Hi\n",
      "Hello\n",
      "Bye\n",
      "Hello\n",
      "Hi\n",
      "Hello\n",
      "Hello\n",
      "Bye\n",
      "Hi\n",
      "Hello\n",
      "Hello\n",
      "Hi\n",
      "Hello\n",
      "Bye\n",
      "Hello\n",
      "Hi\n",
      "Hello\n",
      "Hello\n",
      "Bye\n",
      "Hi\n",
      "Hello\n",
      "Hello\n",
      "Hi\n",
      "Hello\n",
      "Bye\n",
      "Hello\n"
     ]
    }
   ],
   "source": [
    "import time\n",
    "import threading\n",
    "def fun1():\n",
    "    while True:\n",
    "        print(\"Hello\")\n",
    "        time.sleep(1)\n",
    "    \n",
    "def fun2():\n",
    "    while True:\n",
    "        print(\"Hi\")\n",
    "        time.sleep(2)\n",
    "    \n",
    "def fun3():\n",
    "    while True:\n",
    "        print(\"Bye\")\n",
    "        time.sleep(3)\n",
    "\n",
    "threading.Thread(target=fun1).start()\n",
    "threading.Thread(target=fun2).start()\n",
    "threading.Thread(target=fun3).start()"
   ]
  },
  {
   "cell_type": "code",
   "execution_count": null,
   "metadata": {},
   "outputs": [],
   "source": [
    "import threading\n",
    "import time\n",
    "\n",
    "def loop1(n):\n",
    "    for i in range(10):\n",
    "            print(n)\n",
    "            time.sleep(1)\n",
    "\n",
    "T1=threading.Thread(target=loop1, args=(\"Hello\",))\n",
    "T2=threading.Thread(target=loop1, args=(\"Hi\",))\n",
    "T1.start()\n",
    "T2.start()\n"
   ]
  },
  {
   "cell_type": "code",
   "execution_count": 1,
   "metadata": {},
   "outputs": [
    {
     "name": "stdout",
     "output_type": "stream",
     "text": [
      "Hello\n",
      "Hello\n",
      "Hello\n",
      "Hello\n",
      "Hello\n",
      "Hello\n",
      "Hello\n",
      "Hello\n",
      "Hello\n",
      "Hello\n"
     ]
    }
   ],
   "source": [
    "import threading\n",
    "import time\n",
    "\n",
    "def loop1(n):\n",
    "    for i in range(10):\n",
    "            print(n)\n",
    "            time.sleep(1)\n",
    "\n",
    "T1=threading.Thread(target=loop1, args=(\"Hello\",))\n",
    "T1.start()\n"
   ]
  },
  {
   "cell_type": "code",
   "execution_count": 2,
   "metadata": {},
   "outputs": [
    {
     "name": "stdout",
     "output_type": "stream",
     "text": [
      "HelloHi\n",
      "\n",
      "HiHello\n",
      "\n",
      "Hello\n",
      "Hi\n",
      "Hello\n",
      "Hi\n",
      "Hello\n",
      "Hi\n",
      "Hello\n",
      "Hi\n",
      "Hello\n",
      "Hi\n",
      "Hello\n",
      "Hi\n",
      "Hello\n",
      "Hi\n",
      "Hello\n",
      "Hi\n"
     ]
    }
   ],
   "source": [
    "import threading\n",
    "import time\n",
    "\n",
    "def loop1(n):\n",
    "    for i in range(10):\n",
    "            print(n)\n",
    "            time.sleep(1)\n",
    "\n",
    "T1=threading.Thread(target=loop1, args=(\"Hello\",))\n",
    "T2=threading.Thread(target=loop1, args=(\"Hi\",))\n",
    "T1.start()\n",
    "T2.start()"
   ]
  },
  {
   "cell_type": "code",
   "execution_count": 3,
   "metadata": {},
   "outputs": [
    {
     "name": "stdout",
     "output_type": "stream",
     "text": [
      "Hello\n",
      "Hello\n",
      "Hello\n",
      "Hello\n",
      "Hello\n",
      "Hello\n",
      "Hello\n",
      "Hello\n",
      "Hello\n",
      "Hello\n",
      "Hi\n",
      "Hi\n",
      "Hi\n",
      "Hi\n",
      "Hi\n",
      "Hi\n",
      "Hi\n",
      "Hi\n",
      "Hi\n",
      "Hi\n"
     ]
    }
   ],
   "source": [
    "import threading\n",
    "import time\n",
    "lock = threading.Lock()\n",
    "\n",
    "def loop1(n):\n",
    "        lock.acquire()\n",
    "        try:\n",
    "                for i in range(10):\n",
    "                        print(n)\n",
    "                        time.sleep(1)\n",
    "        finally:\n",
    "                lock.release()\n",
    "\n",
    "T1=threading.Thread(target=loop1, args=(\"Hello\",))\n",
    "T2=threading.Thread(target=loop1, args=(\"Hi\",))\n",
    "T1.start()\n",
    "T2.start()\n"
   ]
  },
  {
   "cell_type": "code",
   "execution_count": null,
   "metadata": {},
   "outputs": [],
   "source": []
  }
 ],
 "metadata": {
  "kernelspec": {
   "display_name": "Python 3",
   "language": "python",
   "name": "python3"
  },
  "language_info": {
   "codemirror_mode": {
    "name": "ipython",
    "version": 3
   },
   "file_extension": ".py",
   "mimetype": "text/x-python",
   "name": "python",
   "nbconvert_exporter": "python",
   "pygments_lexer": "ipython3",
   "version": "3.6.7"
  }
 },
 "nbformat": 4,
 "nbformat_minor": 2
}
